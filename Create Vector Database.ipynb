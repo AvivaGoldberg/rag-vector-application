{
 "cells": [
  {
   "cell_type": "markdown",
   "id": "e3445c03-0dc8-4536-8ac4-7d13e3285c24",
   "metadata": {},
   "source": [
    "# Program to create a Chroma Vector Store"
   ]
  },
  {
   "cell_type": "markdown",
   "id": "a56d385e-a2dc-4cde-82a5-cd7d834ea770",
   "metadata": {},
   "source": [
    "## Imports"
   ]
  },
  {
   "cell_type": "code",
   "execution_count": 1,
   "id": "054d4389-59b4-4676-b725-a8f6ed330d67",
   "metadata": {},
   "outputs": [],
   "source": [
    "from langchain_community.document_loaders import PyPDFLoader\n",
    "from langchain_community.document_loaders import PyMuPDFLoader\n",
    "from langchain.text_splitter import RecursiveCharacterTextSplitter"
   ]
  },
  {
   "cell_type": "markdown",
   "id": "d7aa3f88-aae1-4e14-9844-d8d1ea4ee215",
   "metadata": {},
   "source": [
    "## My documents"
   ]
  },
  {
   "cell_type": "code",
   "execution_count": 2,
   "id": "5bfd9dc3-9b67-49c5-b562-73a643ef93af",
   "metadata": {},
   "outputs": [],
   "source": [
    "# all_documents = []\n",
    "# file_paths = [\n",
    "#     \"data/iss-const.pdf\",\n",
    "#     \"data/read-n-heed.pdf\",\n",
    "#     \"data/AG2526v2.pdf\",\n",
    "#     \"data/parent-resource.pdf\",\n",
    "# ]"
   ]
  },
  {
   "cell_type": "code",
   "execution_count": 3,
   "id": "fa9ae70a-3fcd-4656-be37-6a3e1b1d3a1d",
   "metadata": {},
   "outputs": [],
   "source": [
    "all_documents = []\n",
    "\n",
    "pdf_documents = [\n",
    "    {\n",
    "        \"pdf\": \"data/iss-const.pdf\",\n",
    "        \"source\": \"The Indian Springs Constitution\",\n",
    "        \"school_year\": \"2024-2025\",\n",
    "    },\n",
    "    {\n",
    "        \"pdf\": \"data/read-n-heed.pdf\",\n",
    "        \"source\": \"The Read N Head\",\n",
    "        \"school_year\": \"2024-2025\",\n",
    "    },\n",
    "    {\n",
    "        \"pdf\": \"data/AG2526v2.pdf\",\n",
    "        \"source\": \"Academics Guide\",\n",
    "        \"school_year\": \"2025-2026\",\n",
    "    },\n",
    "    {\n",
    "        \"pdf\": \"data/parent-resource.pdf\",\n",
    "        \"source\": \"Parent Guide\",\n",
    "        \"school_year\": \"2024-2025\",\n",
    "    },\n",
    "]"
   ]
  },
  {
   "cell_type": "markdown",
   "id": "c5081920-19f7-4183-b46b-6ce511749e43",
   "metadata": {},
   "source": [
    "## Get all of the pages from all of the documents"
   ]
  },
  {
   "cell_type": "code",
   "execution_count": null,
   "id": "ab4c8e1e-652d-4775-b500-b05d634adf24",
   "metadata": {},
   "outputs": [],
   "source": [
    "for file_path in file_paths:\n",
    "    loader = PyMuPDFLoader(file_path)\n",
    "    documents = loader.load()\n",
    "\n",
    "    # Add metadata to each document\n",
    "    for doc in documents:\n",
    "        doc.metadata[\"source\"] = file_path\n",
    "        all_documents.append(doc)"
   ]
  },
  {
   "cell_type": "code",
   "execution_count": 4,
   "id": "6dc5cd54-24b0-4619-bd08-1ff52caedd78",
   "metadata": {},
   "outputs": [],
   "source": [
    "for pdf_info in pdf_documents:\n",
    "    loader = PyMuPDFLoader(pdf_info[\"pdf\"])\n",
    "    documents = loader.load()\n",
    "\n",
    "    for doc in documents:\n",
    "        doc.metadata[\"source\"] = pdf_info[\"source\"]\n",
    "        doc.metadata[\"school_year\"] = pdf_info[\"school_year\"]\n",
    "        doc.metadata[\"file_path\"] = pdf_info[\"pdf\"]\n",
    "        all_documents.append(doc)"
   ]
  },
  {
   "cell_type": "code",
   "execution_count": 7,
   "id": "457d25a7-df84-489d-bee0-9c2f7caba110",
   "metadata": {},
   "outputs": [],
   "source": [
    "# print(all_documents[4])"
   ]
  },
  {
   "cell_type": "code",
   "execution_count": 8,
   "id": "a12a5bd6-00d1-4d6a-a969-d2fa5004b187",
   "metadata": {},
   "outputs": [
    {
     "name": "stdout",
     "output_type": "stream",
     "text": [
      "Number of pages: 138\n"
     ]
    }
   ],
   "source": [
    "print(\"Number of pages:\", len(all_documents))"
   ]
  },
  {
   "cell_type": "markdown",
   "id": "989b69ba-045f-45ab-86b1-935390ec7023",
   "metadata": {},
   "source": [
    "## Split the pages into `chunks`\n",
    "\n",
    "This is where we need to decide exactly how big a `chunk` should be and how much overlap there should be between `chunks`"
   ]
  },
  {
   "cell_type": "code",
   "execution_count": 9,
   "id": "8e2379bf-4df8-4998-b4c1-3e075fa270cd",
   "metadata": {},
   "outputs": [],
   "source": [
    "text_splitter = RecursiveCharacterTextSplitter(\n",
    "    # chunk_size=200,\n",
    "    # chunk_overlap=50\n",
    "    chunk_size=1024,\n",
    "    chunk_overlap=256,\n",
    "    separators=[\"\\n\\n\", \"\\n\", \" \"]\n",
    ")\n",
    "# Split document into chunks with metadata\n",
    "chunked_documents = text_splitter.split_documents(all_documents)"
   ]
  },
  {
   "cell_type": "code",
   "execution_count": 10,
   "id": "1be80a3c-b2f3-426f-8c56-a548b3f354db",
   "metadata": {},
   "outputs": [
    {
     "name": "stdout",
     "output_type": "stream",
     "text": [
      "Number of chunks:  376\n"
     ]
    }
   ],
   "source": [
    "print(\"Number of chunks: \", len(chunked_documents))"
   ]
  },
  {
   "cell_type": "markdown",
   "id": "51ba8008-d4a8-4d6e-b9c2-ae5208bfe25d",
   "metadata": {},
   "source": [
    "# Embed and build vector store all at once"
   ]
  },
  {
   "cell_type": "code",
   "execution_count": 11,
   "id": "7eb7fd21-929a-4b4a-bd04-121e5f46cc67",
   "metadata": {},
   "outputs": [],
   "source": [
    "from langchain_community.vectorstores import Chroma\n",
    "# from langchain_huggingface import HuggingFaceEmbeddings"
   ]
  },
  {
   "cell_type": "markdown",
   "id": "25279065-322e-4a2c-b68c-235d967051c9",
   "metadata": {},
   "source": [
    "---"
   ]
  },
  {
   "cell_type": "markdown",
   "id": "3d55c360-bcc2-47c5-9ec7-6199a25f3b7d",
   "metadata": {},
   "source": [
    "### This is only good for finding the model"
   ]
  },
  {
   "cell_type": "code",
   "execution_count": 12,
   "id": "06481f8f-09ab-4d15-a221-78aabb43aaf0",
   "metadata": {},
   "outputs": [],
   "source": [
    "from ollama import Client"
   ]
  },
  {
   "cell_type": "code",
   "execution_count": 13,
   "id": "2dbfa00f-7ff8-4eec-b07f-c079684545f7",
   "metadata": {},
   "outputs": [],
   "source": [
    "client = Client(\n",
    "    host=\"http://iss-cs-hp-01.indiansprings.org:11434\"\n",
    ")"
   ]
  },
  {
   "cell_type": "markdown",
   "id": "84ee150f-8a3a-44e1-bbbf-d3d0942ea0a7",
   "metadata": {},
   "source": [
    "### DEBUG CHECKER\n",
    "\n",
    "Can I list the models"
   ]
  },
  {
   "cell_type": "code",
   "execution_count": 14,
   "id": "71e3f5aa-7da5-4deb-8c61-d46057cc95ae",
   "metadata": {},
   "outputs": [],
   "source": [
    "ollama_models = client.list()"
   ]
  },
  {
   "cell_type": "code",
   "execution_count": 15,
   "id": "e23c8eec-81ad-44ad-a3b2-92e5fb787df2",
   "metadata": {
    "scrolled": true
   },
   "outputs": [
    {
     "name": "stdout",
     "output_type": "stream",
     "text": [
      "- nomic-embed-text:latest from nomic-bert\n",
      "- llama3.3:latest from llama\n",
      "- qwen2.5:14b from qwen2\n",
      "- deepseek-r1:14b from qwen2\n",
      "- qwen2.5:latest from qwen2\n",
      "- qwen2.5-coder:latest from qwen2\n",
      "- llama3.2:latest from llama\n",
      "- deepseek-r1:latest from qwen2\n"
     ]
    }
   ],
   "source": [
    "for model in ollama_models['models']:\n",
    "    print(\"-\", model['model'], \"from\", model['details']['family'])"
   ]
  },
  {
   "cell_type": "markdown",
   "id": "2051210d-eff3-4bf4-ba58-4c575574ed6a",
   "metadata": {},
   "source": [
    "---"
   ]
  },
  {
   "cell_type": "markdown",
   "id": "d8c9cc7b-cf37-4bbe-a84e-6c8aea8491c6",
   "metadata": {},
   "source": [
    "## Embedding chunks and metadata"
   ]
  },
  {
   "cell_type": "code",
   "execution_count": 16,
   "id": "882c0f98-0a27-4501-bdd0-0b3839c37736",
   "metadata": {},
   "outputs": [
    {
     "name": "stdout",
     "output_type": "stream",
     "text": [
      "<class 'langchain_core.documents.base.Document'>\n",
      "page_content='The Indian Springs School Constitution\n",
      "Preamble\n",
      "Under the freedom granted the faculty and students of Indian Springs School by the Board of Governors of the\n",
      "Alabama Educational Foundation, the governing body of Indian Springs School, there is herewith created the official Indian\n",
      "Springs School Constitution.\n",
      "The purpose of the Indian Springs School Constitution and Government is to promote living and learning in accordance\n",
      "with humane and democratic values and principles, thereby contributing to the intellectual, physical, emotional, spiritual, and\n",
      "ethical development of all members of the Indian Springs school-community.\n",
      "In establishing this Constitution, the members of the Indian Springs school-community affirm that students and teachers\n",
      "do not have to accept themselves or their surroundings as they are but that it is within their power to improve both through\n",
      "participation in constructive change. Such participation enhances the worth and dignity of humankind, develops responsibility,' metadata={'producer': 'Skia/PDF m117 Google Docs Renderer', 'creator': '', 'creationdate': '', 'source': 'The Indian Springs Constitution', 'file_path': 'data/iss-const.pdf', 'total_pages': 9, 'format': 'PDF 1.4', 'title': 'Constitution', 'author': '', 'subject': '', 'keywords': '', 'moddate': '', 'trapped': '', 'modDate': '', 'creationDate': '', 'page': 0, 'school_year': '2024-2025'}\n"
     ]
    }
   ],
   "source": [
    "print(type(chunked_documents[0]))\n",
    "print(chunked_documents[0])"
   ]
  },
  {
   "cell_type": "code",
   "execution_count": 17,
   "id": "1fef8ae6-3bba-422b-8fa4-de1bf36b3ec6",
   "metadata": {},
   "outputs": [],
   "source": [
    "from langchain_ollama import OllamaEmbeddings"
   ]
  },
  {
   "cell_type": "markdown",
   "id": "9260dd2e-6efd-45be-96bc-2371a35d98e5",
   "metadata": {},
   "source": [
    "## Lets make a list of the chunks as String"
   ]
  },
  {
   "cell_type": "code",
   "execution_count": 18,
   "id": "7619eb33-359d-40b4-98be-14d4ddc02df5",
   "metadata": {},
   "outputs": [],
   "source": [
    "chunk_strings = []\n",
    "for i in range(len(chunked_documents)):\n",
    "    chunk_strings.append(chunked_documents[i].page_content)"
   ]
  },
  {
   "cell_type": "markdown",
   "id": "91bbe813-01b3-498e-a642-340fd10ffb71",
   "metadata": {},
   "source": [
    "## Number of string chunks"
   ]
  },
  {
   "cell_type": "code",
   "execution_count": 19,
   "id": "9228cec7-4e32-4064-bfea-270a746580db",
   "metadata": {},
   "outputs": [
    {
     "name": "stdout",
     "output_type": "stream",
     "text": [
      "376\n"
     ]
    }
   ],
   "source": [
    "print(len(chunk_strings))"
   ]
  },
  {
   "cell_type": "code",
   "execution_count": 20,
   "id": "c2d4c776-95d5-430e-b2d1-fcfe187434cb",
   "metadata": {},
   "outputs": [],
   "source": [
    "# vect = client.embed(model=\"nomic-embed-text\", input=chunk_strings)\n",
    "ollama_embeddings = OllamaEmbeddings(\n",
    "    model=\"nomic-embed-text\",\n",
    "    base_url='http://10.100.200.57:11434'\n",
    ")"
   ]
  },
  {
   "cell_type": "code",
   "execution_count": 21,
   "id": "dfc3516d-f21f-403c-a5e4-e06460047a12",
   "metadata": {},
   "outputs": [],
   "source": [
    "chroma_store = Chroma.from_documents(\n",
    "    documents=chunked_documents,\n",
    "    embedding=ollama_embeddings,\n",
    "    persist_directory='vectorstore',\n",
    ")"
   ]
  },
  {
   "cell_type": "code",
   "execution_count": 30,
   "id": "b1142384-b0fe-4862-9710-b94c05b65875",
   "metadata": {},
   "outputs": [
    {
     "name": "stdout",
     "output_type": "stream",
     "text": [
      "\n",
      "--------------------\n",
      "4.2 Course Descriptions\n",
      "25\n",
      "process. The majority of readings will be non-ﬁction. Topics will often relate to ethics, politics,\n",
      "social issues, and/or language(s). The course likewise serves as an introduction to norms of com-\n",
      "munication and conduct in American post-secondary and professional settings. Students will thus\n",
      "learn and demonstrate dispositions conducive to success in those arenas.\n",
      "Critical Reading & Analytical Writing\n",
      "Grifﬁn\n",
      "Year - 1 Credit\n",
      "This yearlong course emphasizes critical reading and writing skills through the study of canon-\n",
      "ical and contemporary texts from around the globe. We will read novels, short stories, drama,\n",
      "creative nonﬁction, and poetry written during the Renaissance to the present day, with particular\n",
      "emphasis on works produced during the twentieth and twenty-ﬁrst centuries. We will study these\n",
      "texts as cultural records, which illuminate and offer commentary on the contexts from which they\n",
      "\n",
      "--------------------\n",
      "ing, and writing, and it aims to enable students to recognize how language underlies all forms of\n",
      "communication and ﬁelds of study so as to nurture an appreciation of language. Literature is also\n",
      "a means of creative expression and an avenue for young individuals to be introspective, ﬁnd their\n",
      "voices through story-telling, and take creative risks. 8th graders will read a variety of texts to hone\n",
      "their reading and analytical skills and engage in discourse. The holistic approach to the class looks\n",
      "to foster critical thinkers, insightful analysts, imaginative risk-takers, ﬂuent writers, and persua-\n",
      "sive communicators who can develop and express their views in persuasive, impactful ways. Texts\n",
      "studied in the class include Harper Lee’s To Kill a Mockingbird, Ray Bradbury’s Fahrenheit 451,\n",
      "William Shakespeare’s Macbeth, the short stories of Edgar Allan Poe, international poetry, and\n",
      "more.\n",
      "English 9\n",
      "Barrett\n",
      "Year - 1 Credit\n",
      "English 9 covers the fundamentals of writing and reading: writing claims, forming arguments,\n",
      "\n",
      "--------------------\n",
      "tory of composition, history of the book/genre/form, biography of the author.\n",
      "• Master MLA citation form.\n",
      "• Be competent in assessing appropriateness of secondary sources.\n",
      "• Understand that reading, writing and thinking are concurrent processes.\n",
      "• Be able to “read” situations, as well as poems or short stories, and be able to\n",
      "“conﬁrm” the “text” (discuss its purpose, tone, signiﬁcance, argument, etc.) and\n",
      "“complicate” the “text” (question the authors assumptions and linguistic/ rhetorical\n",
      "choices).\n",
      "• Communicate well to a variety of audiences.\n",
      "• Be independent, lifelong readers.\n",
      "• Be able to make a cogent, cohesive argument based on textual evidence.\n",
      "• Be able to research independently.\n",
      "• Be able to edit one’s own and others’ writing.\n",
      "• Recognize logical fallacies.\n",
      "• Have used personal essays as a vehicle for self-reﬂection.\n",
      "• Analyze and be able to criticize the authors “purpose” with appropriate objectivity.\n",
      "• Write with subtlety and ﬁnesse.\n",
      "• Understand plagiarism and intellectual dishonesty.\n",
      "21\n",
      "\n",
      "--------------------\n",
      "emphasis on works produced during the twentieth and twenty-ﬁrst centuries. We will study these\n",
      "texts as cultural records, which illuminate and offer commentary on the contexts from which they\n",
      "come. Additionally, this course emphasizes writing the literary analysis essay; making defensible,\n",
      "well-wrought arguments about a text in lucid, edited prose. Students will also write and edit per-\n",
      "sonal essays in order to search out their voices as writers and values as humans. Frequent informal\n",
      "writing will also take place in class. Finally, students will engage in a structured review of gram-\n",
      "mar, mechanics, and usage.\n",
      "English 8\n",
      "Chow\n",
      "Year - 1 Credit\n",
      "English 8 builds a strong language arts foundation in reading, literary analysis, critical think-\n",
      "ing, and writing, and it aims to enable students to recognize how language underlies all forms of\n",
      "communication and ﬁelds of study so as to nurture an appreciation of language. Literature is also\n",
      "\n",
      "--------------------\n",
      "to storytelling, character development, and representation of African American life on stage and\n",
      "screen.\n",
      "Creative Writing Workshop\n",
      "Barrett\n",
      "Spring Semester - 0.5 Credits\n",
      "This is an opportunity for creative writers to hone their skills and develop a practice of writing,\n",
      "peer-review, editing and revising. By examining successful short stories and poems, students will\n",
      "be expected to write throughout the semester and evaluate the work of their peers. Tips on craft will\n",
      "be shared along the way and students will investigate literary journals for opportunities to publish\n",
      "their work. Each student should end the semester with a writing portfolio.\n",
      "Literary Theory and Analysis\n",
      "Chow\n",
      "Spring Semester - 0.5 Credits\n",
      "Literary Theory and Analysis covers a range of literary theories from Formalism and the cultural\n",
      "theories of Historicism, Feminism, Postcolonialism, and Marxism, to Psychoanalysis and Decon-\n",
      "struction. Literary Theories will be applied to readings of Mary Shelley’s Frankenstein, Dabydeen’s\n",
      "\n",
      "--------------------\n",
      "AP English Language and Composition\n",
      "Woodruff\n",
      "Year - 1 Credit\n",
      "AP English Language & Composition covers the knowledge and skills of a college-level writing\n",
      "and rhetoric course (i.e. “freshman comp”). Students will enhance their critical thinking, read-\n",
      "ing, writing, listening, and speaking abilities. Writing will take center stage as students learn to\n",
      "identify, compare, critique, and produce arguments. Students will engage writing and research as\n"
     ]
    }
   ],
   "source": [
    "# query = \"Tell me about the mayor\"\n",
    "query = \"Tell me about Critical Reading and Analytical Writing\"\n",
    "\n",
    "results = chroma_store.similarity_search(query,k=6)\n",
    "for result in results:\n",
    "    print(\"\\n--------------------\")\n",
    "    print(result.page_content)"
   ]
  },
  {
   "cell_type": "code",
   "execution_count": null,
   "id": "303b4953-7dff-4eb0-9fb4-6c3413a09c6d",
   "metadata": {},
   "outputs": [],
   "source": []
  }
 ],
 "metadata": {
  "kernelspec": {
   "display_name": "Python 3 (ipykernel)",
   "language": "python",
   "name": "python3"
  },
  "language_info": {
   "codemirror_mode": {
    "name": "ipython",
    "version": 3
   },
   "file_extension": ".py",
   "mimetype": "text/x-python",
   "name": "python",
   "nbconvert_exporter": "python",
   "pygments_lexer": "ipython3",
   "version": "3.10.12"
  }
 },
 "nbformat": 4,
 "nbformat_minor": 5
}
